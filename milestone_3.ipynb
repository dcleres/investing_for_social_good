{
  "nbformat": 4,
  "nbformat_minor": 0,
  "metadata": {
    "colab": {
      "name": "13-18Q3 SEC 13F complete analysis.ipynb",
      "version": "0.3.2",
      "provenance": []
    },
    "kernelspec": {
      "display_name": "Python 3",
      "language": "python",
      "name": "python3"
    }
  },
  "cells": [
    {
      "metadata": {
        "id": "JHJRtDSH2F2Q",
        "colab_type": "text"
      },
      "cell_type": "markdown",
      "source": [
        "# Initial Imports\n",
        "\n",
        "\n",
        "---\n",
        "\n"
      ]
    },
    {
      "metadata": {
        "id": "4RfBfH5ST_j-",
        "colab_type": "code",
        "colab": {}
      },
      "cell_type": "code",
      "source": [
        "import pandas as pd\n",
        "import numpy as np\n",
        "import html5lib\n",
        "pd.set_option( 'display.notebook_repr_html', False )\n",
        "\n",
        "from IPython.display import HTML # useful for snippets\n",
        "#  e.g. HTML('<iframe src=http://en.mobile.wikipedia.org/?useformat=mobile width=700 height=350></iframe>')\n",
        "from IPython.display import Image \n",
        "#  e.g. Image(filename='holt-winters-equations.png', embed=True) # url= also works\n",
        "from IPython.display import YouTubeVideo\n",
        "#  e.g. YouTubeVideo('1j_HxD4iLn8', start='43', width=600, height=400)\n",
        "from IPython.core import page\n",
        "get_ipython().set_hook('show_in_pager', page.as_hook(page.display_page), 0)\n",
        "\n",
        "#  Generate PLOTS inside notebook, \"inline\" generates static png:\n",
        "%matplotlib inline   \n",
        "#          \"notebook\" argument allows interactive zoom and resize.\n",
        "\n",
        "\n",
        "# note: https cannot be read by lxml\n",
        "\n",
        "data_folder = 'data/'\n",
        "\n"
      ],
      "execution_count": 0,
      "outputs": []
    },
    {
      "metadata": {
        "id": "rzFH7i8INTXa",
        "colab_type": "text"
      },
      "cell_type": "markdown",
      "source": [
        "#**Data Fetching**\n",
        "\n",
        "\n",
        "---\n"
      ]
    },
    {
      "metadata": {
        "id": "dR8SJ7O3xBTH",
        "colab_type": "text"
      },
      "cell_type": "markdown",
      "source": [
        "## Scrapping SEC 13F Financial Report Filings\n",
        "\n",
        "We want to know what asset managers own which stocks. The U.S. Securities and Exchange Commission (SEC) 13F Financial Report Filings provide the '13F-type' investment holdings (such as stocks) of US asset managers with at least $100M in assets. We can download an index of URLs to 13F Filings from the SEC's Electronic Data Gathering, Analysis, and Retrieval system (EDGAR). See the [SEC's website](https://www.sec.gov/edgar.shtml) for more information on EDGAR.\n",
        "\n",
        "master.tsv is an index of Q3 13F financial report filings from 2013 to 2018 downloaded from the SEC's EDGAR system. We can use this index access and download each report via a url.\n",
        "\n",
        "We reformat the master.tsv index attributes for ease of use, and filter for a specific type of 13F financial report called the 13F-HR which contains relevant information about institutional asset manager investment portfolios (how much of each investment they own)."
      ]
    },
    {
      "metadata": {
        "id": "37mjmaBmT_kC",
        "colab_type": "code",
        "colab": {}
      },
      "cell_type": "code",
      "source": [
        "master_index_df = pd.read_table(data_folder + 'master.tsv', sep='|', index_col=False, \n",
        "                 names=['CIK', 'Company Name', 'Filing Type', 'Filing Date', 'Filing URL .txt', 'Filing URL .html'], encoding='latin-1')\n",
        "index_13f_df = master_index_df.loc[master_index_df['Filing Type'] == '13F-HR']\n"
      ],
      "execution_count": 0,
      "outputs": []
    },
    {
      "metadata": {
        "id": "ZxEBeqKTyigT",
        "colab_type": "text"
      },
      "cell_type": "markdown",
      "source": [
        "Because the raw original index is costly to load and filter from, we save 13f_index.tsv as a version of the index filtered for our needs for future computation. "
      ]
    },
    {
      "metadata": {
        "id": "1WchHCCsT_kg",
        "colab_type": "code",
        "colab": {}
      },
      "cell_type": "code",
      "source": [
        "pd.index_13f_df.to_csv(data_folder + '13f_index.tsv')"
      ],
      "execution_count": 0,
      "outputs": []
    },
    {
      "metadata": {
        "id": "vTDZVbhJzKIG",
        "colab_type": "text"
      },
      "cell_type": "markdown",
      "source": [
        "Moving forward, we use this subset of the original index stored in 13f_index.tsv when running analysis for efficiency."
      ]
    },
    {
      "metadata": {
        "id": "utgJOJoPT_kk",
        "colab_type": "code",
        "colab": {}
      },
      "cell_type": "code",
      "source": [
        "# load 2013 to 2018 Q3 report URLs\n",
        "complete_13F_index_df = pd.read_table(data_folder + '13f_index.tsv', sep=',', index_col=False, encoding='latin-1')"
      ],
      "execution_count": 0,
      "outputs": []
    },
    {
      "metadata": {
        "id": "0qDpxEfEzbWC",
        "colab_type": "text"
      },
      "cell_type": "markdown",
      "source": [
        "We perform a sanity check to confirm that we are working with the types of URLs intended"
      ]
    },
    {
      "metadata": {
        "id": "COXz6T1CT_ku",
        "colab_type": "code",
        "outputId": "fbb66b5f-2f0c-472e-c910-8b9800296d91",
        "colab": {
          "base_uri": "https://localhost:8080/",
          "height": 34
        }
      },
      "cell_type": "code",
      "source": [
        "# inspect if URL to be parsed is valid\n",
        "complete_13F_index_df['Filing URL .html'].iloc[0]"
      ],
      "execution_count": 0,
      "outputs": [
        {
          "output_type": "execute_result",
          "data": {
            "text/plain": [
              "'edgar/data/1000097/0000919574-13-005176-index.html'"
            ]
          },
          "metadata": {
            "tags": []
          },
          "execution_count": 27
        }
      ]
    },
    {
      "metadata": {
        "id": "mhRvV7G5z6_D",
        "colab_type": "text"
      },
      "cell_type": "markdown",
      "source": [
        "We download each investor's Q3 13F financial report filing from 2013 to 2018 from the URL provided by the filtered 13f_index.tsv  index. \n",
        "\n",
        "In the process of scraping this data, we also reformat the data for readabilility and add a column denoting the percentage weight of each investment in each portfolio.\n",
        "\n",
        "\n",
        "\n",
        "We also perform some **Data Cleaning and Selection**  by filtering the data from the reports downloaded for information relevant to our analysis, such as the investor name, the data the information was published,  and the name and value of each major investment. "
      ]
    },
    {
      "metadata": {
        "id": "8NGVRKVGT_k8",
        "colab_type": "code",
        "colab": {}
      },
      "cell_type": "code",
      "source": [
        "# initialize empty list to store dataframes from different investors (to be appended later)\n",
        "appended_data = []\n",
        "\n",
        "# loop through all reports, filter relevant data, create normalized dataframes per investor, add to list of dataframes to be appended\n",
        "for index, row in complete_13F_index_df.iterrows():\n",
        "     \n",
        "    \n",
        "    # need to parse initial html file for name of html file with investment data\n",
        "    url = 'https://www.sec.gov/Archives/' + row['Filing URL .html'] #.iloc[index]\n",
        "    page = pd.read_html( url )\n",
        "    df = page[0]\n",
        "    if len(df) < 5:\n",
        "        print('skip: ' + url)\n",
        "        continue\n",
        "    table_url_suffix = df[2].iloc[4]\n",
        "\n",
        "    report_suffix = row['Filing URL .html'] \n",
        "    investor = row['Company Name'] \n",
        "    date = row['Filing Date'] \n",
        "    \n",
        "    ### SET TO RETURN TOP 20 STOCKS PER INVESTOR (BY SIZE OF INVESTMENT)\n",
        "    num_stocks_returned = 20\n",
        "\n",
        "    stem = 'http://www.sec.gov/Archives/'\n",
        "    xml_suffix = '/xslForm13F_X01/'\n",
        "\n",
        "    report_suffix = report_suffix.replace('-index.html', '')\n",
        "    report_suffix = report_suffix.replace('-', '')\n",
        "\n",
        "    #  build URL to html file with investment data\n",
        "    url = stem + report_suffix + xml_suffix + table_url_suffix\n",
        "    print(url)\n",
        "    \n",
        "    # turn HTML file into dataframe\n",
        "    page = pd.read_html( url )\n",
        "    #  the last element of page contains relevant investement data\n",
        "    df = page[-1]\n",
        "\n",
        "    #  rename columns:\n",
        "    df.columns = [ 'stock', 'class', 'cusip', 'usd', 'size', 'sh_prin', 'putcall', 'discret', 'manager', 'vote1', 'vote2', 'vote3']\n",
        "\n",
        "    #  But first three rows are SEC labels, not data, \n",
        "    #  so delete them:\n",
        "    df = df[3:]\n",
        "\n",
        "    #  Start a new index from 0 instead of 3:\n",
        "    df.reset_index( drop=True )\n",
        "\n",
        "\n",
        "    #  Delete irrevelant columns:\n",
        "    dflite = df.drop( df.columns[[1, 4, 5, 7, 8, 9, 10, 11]], axis=1 )\n",
        "\n",
        "    #  usd needs float type since usd was read as string:\n",
        "    dflite[['usd']] = dflite[['usd']].astype( float )\n",
        "    #                  NOTE: int as type will fail for NaN\n",
        "\n",
        "    #  Type change allows proper sort:\n",
        "    dfusd = dflite.sort_values( by=['usd'], ascending=[False] )\n",
        "\n",
        "\n",
        "    usdsum = sum( dfusd.usd )\n",
        "    #  Portfolio total in USD:\n",
        "    #usdsum\n",
        "\n",
        "\n",
        "    #  New column for percentage of total portfolio:\n",
        "    dfusd['pcent'] = np.round(( dfusd.usd / usdsum ) * 100, 2)\n",
        "\n",
        "\n",
        "    # New column for date of report filling\n",
        "    dfusd.insert(0, 'date', date)\n",
        "\n",
        "    # New column for investor\n",
        "    dfusd.insert(0, 'investor', investor)\n",
        "\n",
        "    #  Dataframe per investor with top num_stocks_returned \n",
        "    appended_data.append(dfusd.head( num_stocks_returned ))\n",
        "\n",
        "# show list of dataframes    \n",
        "#appended_data\n"
      ],
      "execution_count": 0,
      "outputs": []
    },
    {
      "metadata": {
        "id": "YTmV2VTf2J5-",
        "colab_type": "text"
      },
      "cell_type": "markdown",
      "source": [
        "We merge investment records from different investors together into a single dataframe, and will later save the final cleaned result to a CSV file locally because the data is time consuming to recompute."
      ]
    },
    {
      "metadata": {
        "id": "OfP-uQlgT_lB",
        "colab_type": "code",
        "colab": {}
      },
      "cell_type": "code",
      "source": [
        "# Concat investor dataframes together\n",
        "appended_data = pd.concat(appended_data, axis=0)"
      ],
      "execution_count": 0,
      "outputs": []
    },
    {
      "metadata": {
        "id": "U7wZ24kCBZ13",
        "colab_type": "text"
      },
      "cell_type": "markdown",
      "source": [
        "## Loading CUSIP to Stock Symbol Mapping from cnfails Data\n",
        "We want to annotate each investment stock with an industry standardized stock symbol (for example APPL for Apple Inc) to enable us to consistently clean and organize the financial records, as well as easily augment additional stock related data by the Stock Symbol attribute.\n",
        "\n",
        "To do this, we load a mapping of the CUSIP attributes to Stock Symbols from the SEC's ( US Government Agency) cnfails dataset, dropping unrelevant attributes. "
      ]
    },
    {
      "metadata": {
        "id": "k9yLB-DxT_lF",
        "colab_type": "code",
        "colab": {}
      },
      "cell_type": "code",
      "source": [
        "# create mapping from cusip to symbol to allow Just Capital and 13F sample data to be joined\n",
        "## load CUSIP to ticker data from \"fail to deliver\" data - we load several monthes of data to capture a greater number of unique investment managers\n",
        "## note: \"fail to deliver\" data records the volume of transactions that a investment manager fails to deliver on\n",
        "cusip_to_ticker_df_raw_data = pd.read_csv(data_folder + 'cnfails2018.txt', sep='|', index_col=False, encoding='latin-1' )\n",
        "### drop duplicate entries for invesment managers\n",
        "cusip_to_ticker_df = cusip_to_ticker_df_raw_data.drop_duplicates(subset=['CUSIP'], keep='first')\n",
        "## drop unnessasary attributes from dataframe\n",
        "cusip_to_ticker_df = cusip_to_ticker_df.drop(['SETTLEMENT DATE', 'DESCRIPTION'], axis=1)\n",
        "## rename to make joining with 13F dataset easier\n",
        "cusip_to_ticker_df = cusip_to_ticker_df.rename(index=str, columns={\"CUSIP\": \"cusip\", \"SYMBOL\": \"symbol\"})\n"
      ],
      "execution_count": 0,
      "outputs": []
    },
    {
      "metadata": {
        "id": "1mHuT6hdGH_Z",
        "colab_type": "text"
      },
      "cell_type": "markdown",
      "source": [
        "## Loading Just Capital Compay Social Impact Scores\n",
        "\n",
        "We want to be able to compare the social impact of different financial investements asset managers make. To do this, we load jc_companies.csv, an index of Just Capital Company social impact scores and rankings. This index gives a social impact score to the ~800 largest publicly traded companies, and is backed up by extensive research and a rigourously defended methodology. \n",
        "\n",
        "To learn more about the Just Capital Ranking Methodology, check out their [86 page report](https://com-justcapital-web-v2.s3.amazonaws.com/pdf/18May2018_JUST_Capital_2017_Ranking_Methodology.pdf) explaining their research methodology."
      ]
    },
    {
      "metadata": {
        "id": "uNB0ML9cdnXp",
        "colab_type": "code",
        "colab": {}
      },
      "cell_type": "code",
      "source": [
        "## load Just Capital company scoring and rankings of ~800 largest public (investable) companies \n",
        "jc_companies_df = pd.read_csv(data_folder + \"jc_companies.csv\")\n",
        "\n",
        "## rename investment scoring dataframe ticker attribute to make joining data with 13F data easier\n",
        "jc_companies_df = jc_companies_df.rename(index=str, columns={\"ticker\": \"symbol\"})"
      ],
      "execution_count": 0,
      "outputs": []
    },
    {
      "metadata": {
        "id": "TsSNLynEP7D6",
        "colab_type": "text"
      },
      "cell_type": "markdown",
      "source": [
        "# Data Cleaning and Selection\n",
        "\n",
        "\n",
        "---\n",
        "\n"
      ]
    },
    {
      "metadata": {
        "id": "Tx9PhHzAP97_",
        "colab_type": "text"
      },
      "cell_type": "markdown",
      "source": [
        "We want to merge together the three datasets loaded above into a single dataframe for ease of analysis. \n",
        "\n",
        "We also want to know the portfolio-wide social impact of an investor, instead of just the impact of the investor's individual investements. To create this aggragate metric, we compute an additional attribute called 'weighted_score' that adjusts the social impact score of a particular investor's stock by the percentage allocation of that stock in the given investor's portfolio."
      ]
    },
    {
      "metadata": {
        "id": "0LrDuENuT_lI",
        "colab_type": "code",
        "colab": {}
      },
      "cell_type": "code",
      "source": [
        "# for every investment manager asset holding entry in sec13f_sample_df, \n",
        "# if the \"stock\" matches a company scored by the Just Capital dataset, merge the datasets together\n",
        "## do left outer join\n",
        "merged_df = pd.merge(appended_data, cusip_to_ticker_df, how=\"inner\", on=\"cusip\")\n",
        "merged_df = pd.merge(merged_df, jc_companies_df, how=\"inner\", on = 'symbol')\n",
        "## create weighted_score attribute\n",
        "merged_df[\"weighted_score\"] = merged_df['pcent']/100*merged_df['scores.overall']\n",
        "\n",
        "# show merged dataset\n",
        "merged_df.head()"
      ],
      "execution_count": 0,
      "outputs": []
    },
    {
      "metadata": {
        "id": "3HGLwtdhUCue",
        "colab_type": "text"
      },
      "cell_type": "markdown",
      "source": [
        "We remove additional attributes that are not useful to our analysis, such as 'QUANTITY (FAILS)' from the cnfails dataset.\n",
        "\n",
        "We convert the 'date' attribute into a datetime type and create a separate 'year' attribute based the date."
      ]
    },
    {
      "metadata": {
        "id": "WZhk4sFUEQru",
        "colab_type": "code",
        "colab": {}
      },
      "cell_type": "code",
      "source": [
        "merged_df = merged_df.drop(['Unnamed: 0', 'QUANTITY (FAILS)', 'scores.worker.health'], axis=1)\n",
        "merged_df['date'] = pd.to_datetime(merged_df['date'])\n",
        "merged_df['year'] = merged_df['date'].dt.year"
      ],
      "execution_count": 0,
      "outputs": []
    },
    {
      "metadata": {
        "id": "wZbURM_UUdzC",
        "colab_type": "text"
      },
      "cell_type": "markdown",
      "source": [
        "We download this cleaned dataset result as 13f_results_13-18Q3_merged.csv to avoid having to rerun time consuming computations."
      ]
    },
    {
      "metadata": {
        "id": "Hj2Cbfeq-44H",
        "colab_type": "code",
        "colab": {}
      },
      "cell_type": "code",
      "source": [
        "# Export as CSV file\n",
        "merged_df.to_csv(data_folder + '13f_results_13-18Q3_merged.csv')"
      ],
      "execution_count": 0,
      "outputs": []
    },
    {
      "metadata": {
        "id": "2oxkDFbZXX7I",
        "colab_type": "text"
      },
      "cell_type": "markdown",
      "source": [
        "Moving forward, we run computations by directly loading the cleaned and saved 13f_results_13-18Q3_merged.csv result dataset. "
      ]
    },
    {
      "metadata": {
        "id": "VlsDOeVeLC30",
        "colab_type": "code",
        "colab": {}
      },
      "cell_type": "code",
      "source": [
        "merged_df = pd.read_csv(data_folder + \"13f_results_13-18Q3_merged.csv\")\n"
      ],
      "execution_count": 0,
      "outputs": []
    },
    {
      "metadata": {
        "id": "-tMilRZoRfpm",
        "colab_type": "text"
      },
      "cell_type": "markdown",
      "source": [
        "# Data Visualization\n",
        "\n",
        "We will be using Plot.ly for data visualization. \n",
        "\n",
        "To prepare the data for visualization in Plotly, we select attributes and values of interest as shown below."
      ]
    },
    {
      "metadata": {
        "id": "SFIhNlAkZauA",
        "colab_type": "text"
      },
      "cell_type": "markdown",
      "source": [
        "### We want to visualize the social impact of different asset manager investment portfolios\n",
        "\n",
        "To do this, we create a dataframe for investor scores. \n",
        "\n",
        "This dataframe selects the following attributes: investor, year (when the investment was declared), and weighted_score (an aggragate score of the social impact of the stocks in an investors portfolio adjusted by portfolio composition).\n"
      ]
    },
    {
      "metadata": {
        "id": "0-hUwXY2T_lQ",
        "colab_type": "code",
        "colab": {}
      },
      "cell_type": "code",
      "source": [
        "# group merged dataset by investor, and sum the investment weighted_score entries by investor\n",
        "investor_score_df = merged_df.groupby(['investor', 'year'])['weighted_score'].sum().reset_index()\n",
        "investor_score_df = investor_score_df.sort_values('weighted_score', ascending=False)"
      ],
      "execution_count": 0,
      "outputs": []
    },
    {
      "metadata": {
        "id": "JizHJeMNbaU7",
        "colab_type": "text"
      },
      "cell_type": "markdown",
      "source": [
        "Specifically, we are interested in showing a multi-year sample of data to show how social impact scores may have varied over time. \n",
        "\n",
        "We choose to visualize data for the years 2013, 2015, and 2017 since our dataset is from 2013 to 2018, we want to choose a sample set of evenly spaced out years, and because we are also performing Twitter data analysis for 2017. "
      ]
    },
    {
      "metadata": {
        "id": "syUdW0B-DKpu",
        "colab_type": "code",
        "colab": {}
      },
      "cell_type": "code",
      "source": [
        "investor_score_13_15_17_df = investor_score_df.loc[(investor_score_df['year'] == 2013) | (investor_score_df['year'] == 2015) | (investor_score_df['year'] == 2017)]\n",
        "#investor_score_13_15_17_df = investor_score_13_15_17_df.drop([16651])\n"
      ],
      "execution_count": 0,
      "outputs": []
    },
    {
      "metadata": {
        "id": "yh8EFaDrevLN",
        "colab_type": "text"
      },
      "cell_type": "markdown",
      "source": [
        "We download the subset of data selected and returned in the investor_score_13_15_17_df dataframe, and generate a visualization using the Plot.ly Chart Studio tool.\n",
        "\n",
        "Plot.ly Chart Studio allows us to create an interactive graph visualization of the [Portfolio Social Impact by Investor and Year](https://plot.ly/~mike.jiao/8/)\n",
        "\n",
        "The 3-D Scatterplot shows the portfolio-wide social impact of institutional investors with over 100M in holders in a sample of three years between 2013 and 2018 (2013, 2015, and 2017). Portfolio-wide social impact is measured using a score computed as a weighted average of a portfolio’s individual stocks’ social impact. The score is computed using the portfolio weight percentage of each stock declared in SEC 13F filings, and individual stock social impact scores computed by Just Capital. \n",
        "\n"
      ]
    },
    {
      "metadata": {
        "id": "kYhaqsE9DsHz",
        "colab_type": "code",
        "colab": {}
      },
      "cell_type": "code",
      "source": [
        "# Export as CSV file\n",
        "investor_score_13_15_17_df.to_csv(data_folder + 'investorsByYearScore_13_15_17.csv', index=False)"
      ],
      "execution_count": 0,
      "outputs": []
    },
    {
      "metadata": {
        "id": "VEyGnVF3fq_j",
        "colab_type": "text"
      },
      "cell_type": "markdown",
      "source": [
        "We choose to separately select and visualize Investor Portfolio Social Impact in 2017, since we are also analyzing Twitter data for 2017."
      ]
    },
    {
      "metadata": {
        "id": "zpgo53VmKW2g",
        "colab_type": "code",
        "colab": {}
      },
      "cell_type": "code",
      "source": [
        "investor_score_17_df = investor_score_df.loc[(investor_score_df['year'] == 2017)]"
      ],
      "execution_count": 0,
      "outputs": []
    },
    {
      "metadata": {
        "id": "kPJ116aegccy",
        "colab_type": "text"
      },
      "cell_type": "markdown",
      "source": [
        "We download the subset of data selected and returned in the investor_score_17_df dataframe, and generate a visualization using the Plot.ly Chart Studio tool.\n",
        "\n",
        "Plot.ly Chart Studio allows us to create an interactive graph visualization of the [2017 Investor Portfolios by Social Impact](https://plot.ly/~mike.jiao/10/)\n",
        "\n",
        "The 2-D Scatterplot focus in on year 2017 data from the previous 3-D Scatterplot.\n"
      ]
    },
    {
      "metadata": {
        "id": "V2OpjDLFcLEi",
        "colab_type": "code",
        "colab": {}
      },
      "cell_type": "code",
      "source": [
        "# Export as CSV file\n",
        "investor_score_17_df.to_csv(data_folder + 'investors2017Score.csv')"
      ],
      "execution_count": 0,
      "outputs": []
    },
    {
      "metadata": {
        "id": "qHOK80QkhFD0",
        "colab_type": "text"
      },
      "cell_type": "markdown",
      "source": [
        "### We want to visualize the popularity of high social impact and low social impact stocks. \n",
        "\n",
        "Since we use Just Capital's Social Impact Company index as our metric for social impact, we first define high social impact stocks as the top 10% of companies in Just Capital's Social Impact Index, and low social impact stocks as the bottom 10% of companeis in Just Capital's Social Impact Index. \n",
        "\n",
        "The Just Capital Index includes 870 companies, so we select the top and bottom 87 companies. "
      ]
    },
    {
      "metadata": {
        "id": "-mIjd12YL3id",
        "colab_type": "code",
        "colab": {}
      },
      "cell_type": "code",
      "source": [
        "# top 10% social impact stocks\n",
        "stock_score_top_df = jc_companies_df.nlargest(87, 'scores.overall')\n",
        "\n",
        "# botton 10% social impact stocks\n",
        "stock_score_bottom_df = jc_companies_df.nsmallest(87, 'scores.overall')"
      ],
      "execution_count": 0,
      "outputs": []
    },
    {
      "metadata": {
        "id": "9ADw9OLhlwkf",
        "colab_type": "text"
      },
      "cell_type": "markdown",
      "source": [
        "To find the popularity of the stocks, we count the number of times they appear in an investor's portfolio in 2017. \n",
        "\n",
        "We do this by extracting the set of high and low impact stocks from our augmented and cleaned 13F investor portfolio dataset (merged_df), and counting the occurance of unique stocks (via stock 'symbol')."
      ]
    },
    {
      "metadata": {
        "id": "ObWfupVvOsLi",
        "colab_type": "code",
        "colab": {
          "base_uri": "https://localhost:8080/",
          "height": 119
        },
        "outputId": "0ec91a07-e4b4-4fa7-af4c-51e5a80b7218"
      },
      "cell_type": "code",
      "source": [
        "popular_good_df = merged_df[merged_df[\"symbol\"].isin(stock_score_top_df[\"symbol\"])]\n",
        "popular_good_df = popular_good_df.loc[(popular_good_df['year'] == 2017)]\n",
        "\n",
        "popular_good_df = popular_good_df.groupby(['symbol', 'scores.overall'])['symbol'].agg({'Frequency':'count'})\n",
        "\n",
        "popular_bad_df = merged_df[merged_df[\"symbol\"].isin(stock_score_bottom_df[\"symbol\"])]\n",
        "popular_bad_df = popular_bad_df.loc[(popular_bad_df['year'] == 2017)]\n",
        "\n",
        "popular_bad_df = popular_bad_df.groupby(['symbol', 'scores.overall'])['symbol'].agg({'Frequency':'count'})\n"
      ],
      "execution_count": 36,
      "outputs": [
        {
          "output_type": "stream",
          "text": [
            "/usr/local/lib/python3.6/dist-packages/ipykernel_launcher.py:4: FutureWarning: using a dict on a Series for aggregation\n",
            "is deprecated and will be removed in a future version\n",
            "  after removing the cwd from sys.path.\n",
            "/usr/local/lib/python3.6/dist-packages/ipykernel_launcher.py:9: FutureWarning: using a dict on a Series for aggregation\n",
            "is deprecated and will be removed in a future version\n",
            "  if __name__ == '__main__':\n"
          ],
          "name": "stderr"
        }
      ]
    },
    {
      "metadata": {
        "id": "jwLfwGA_noyS",
        "colab_type": "text"
      },
      "cell_type": "markdown",
      "source": [
        "We download the subset of data selected and returned in the popular_good_df and popular_bad_df dataframes, and generate two visualization using the Plot.ly Chart Studio tool.\n",
        "\n",
        "Plot.ly Chart Studio allows us to create an interactive graph visualization of the [Popularity of High Social Impact Stocks](https://plot.ly/~mike.jiao/12/) and [Popularity of Low Social Impact Stocks](https://plot.ly/~mike.jiao/14/) \n",
        "\n",
        "The heatmaps displays the social impact (scored by Just Capital) of each stock within the top or bottom 10% of Just Capital Social Impact Scores, as well as the number of large institutional investors (with at least 100M in US 13F type securities) that own that stock. \n",
        "More popular stocks are represented by lighter colours, whereas less popular stocks are represented with darker colours. \n"
      ]
    },
    {
      "metadata": {
        "id": "Wy-M3pWsQSBY",
        "colab_type": "code",
        "colab": {}
      },
      "cell_type": "code",
      "source": [
        "# Export popularity of high social impact stocks as CSV file\n",
        "popular_good_df.to_csv(data_folder + 'popular_good_df.csv')\n",
        "\n",
        "# Export popularity of low social impact stocks as CSV file\n",
        "popular_bad_df.to_csv(data_folder + 'popular_bad_df.csv')\n"
      ],
      "execution_count": 0,
      "outputs": []
    },
    {
      "metadata": {
        "id": "lno2GM0CovpI",
        "colab_type": "text"
      },
      "cell_type": "markdown",
      "source": [
        "### We want to visualize a comparision of investor portfolio social impact in 2013 compared to 2017."
      ]
    },
    {
      "metadata": {
        "id": "jQqzgHiRqP57",
        "colab_type": "text"
      },
      "cell_type": "markdown",
      "source": [
        "Since we have data on the highest and lowest scoring social impact investor portfolios in 2013 and 2017, we aim to observe not only the state of social impact in investor portfolios in 2017, but where the top and bottom 10% of investor portfolios in 2013 ended up in 2017 based on portfolio social impact score. \n",
        "\n",
        "We select the top 10% of investors in 2013, and also select the social impact data of those same investors in 2017.\n",
        "\n",
        "We do the same for the bottom 10% of investors in 2013.\n",
        "\n",
        "\n"
      ]
    },
    {
      "metadata": {
        "id": "LF10J4b0RmuF",
        "colab_type": "code",
        "colab": {}
      },
      "cell_type": "code",
      "source": [
        "# select 2013 investor portfolio social impact scores\n",
        "investor_score_13_df = investor_score_df.loc[(investor_score_df['year'] == 2013)]\n",
        "\n",
        "# top 10% 2013 (810 investors)\n",
        "investor_score_top_2013_df = investor_score_13_df.nlargest(810, 'weighted_score')\n",
        "\n",
        "# 2017 investor scores, for the top social investors from 2013\n",
        "top_2013_investors_in_2017_df = investor_score_17_df[investor_score_17_df[\"investor\"].isin(investor_score_top_2013_df[\"investor\"])]\n",
        "\n",
        "# bottom 10% 2013\n",
        "investor_score_bottom_2013_df = investor_score_13_df.nsmallest(810, 'weighted_score')\n",
        "\n",
        "# 2017 investor scores, for the bottom social investors from 2013\n",
        "bottom_2013_investors_in_2017_df = investor_score_17_df[investor_score_17_df[\"investor\"].isin(investor_score_bottom_2013_df[\"investor\"])]\n"
      ],
      "execution_count": 0,
      "outputs": []
    },
    {
      "metadata": {
        "id": "gqbPJAlqtj0D",
        "colab_type": "text"
      },
      "cell_type": "markdown",
      "source": [
        "Likewise, we are interested in where the top and bottom 10% of investor portfolios in 2017 were in 2013 based on portfolio social impact score.\n",
        "\n",
        "We find the top 10% of investors in 2017, and select the social impact data of those same investors in 2013.\n",
        "\n",
        "We do the same for the bottom 10% of investors in 2017."
      ]
    },
    {
      "metadata": {
        "id": "wHU_Evmls8Tq",
        "colab_type": "code",
        "colab": {}
      },
      "cell_type": "code",
      "source": [
        "# top 10% 2017 (732 investors)\n",
        "investor_score_top_2017_df = investor_score_17_df.nlargest(732, 'weighted_score')\n",
        "# bottom 10% 2017 \n",
        "investor_score_bottom_2017_df = investor_score_17_df.nsmallest(732, 'weighted_score')\n",
        "\n",
        "#where were the 2017 bottom social investors in 2013\n",
        "bottom_2017_investors_in_2013_df = investor_score_13_df[investor_score_13_df[\"investor\"].isin(investor_score_bottom_2017_df[\"investor\"])]\n",
        "\n",
        "#where were the 2017 top social investors in 2013\n",
        "top_2017_investors_in_2013_df = investor_score_13_df[investor_score_13_df[\"investor\"].isin(investor_score_top_2017_df[\"investor\"])]"
      ],
      "execution_count": 0,
      "outputs": []
    },
    {
      "metadata": {
        "id": "YifEQeNfut1e",
        "colab_type": "text"
      },
      "cell_type": "markdown",
      "source": [
        "We download the 6 subsets of data selected and returned in the following dataframes: \n",
        "* investor_score_17_df (already previously downloaded)\n",
        "* top_2013_investors_in_2017_df\n",
        "* bottom_2013_investors_in_2017_df\n",
        "* bottom_2017_investors_in_2013_df\n",
        "* top_2017_investors_in_2013_df\n",
        "\n",
        "\n",
        "\n",
        "\n",
        "\n",
        "Using these datasets, we generate one visualization with 5 layers of data tracings using the Plot.ly Chart Studio tool.\n",
        "\n",
        "Plot.ly Chart Studio allows us to create an interactive graph visualization of the [Investor Social Impact in 2013 vs 2017](https://plot.ly/~mike.jiao/25/)\n",
        "\n",
        "The Scatterplot displays how the social impact of investor portfolios has changed from 2013 to 2017. The graph has 5 layers/traces that can be optionally displayed or removed from the plot by clicking the respective item in the Legend. These layers in order from top to bottom correspond with: \n",
        "1. All 2017 Investor Portfolio Social Impact Scores, \n",
        "2. 2017 Investor Portfolio Social Impact Scores for the top 10% of Investors by Portfolio Social Impact Score from 2013, \n",
        "3. 2017 Investor Portfolio Social Impact Scores for the bottom 10% of Investors by Portfolio Social Impact Score from 2013, \n",
        "4. 2013 Investor Portfolio Social Impact Scores for the top 10% of Investors by Portfolio Social Impact Score in 2017, and \n",
        "5. 2013 Investor Portfolio Social Impact Scores for the bottom 10% of Investors by Portfolio Social Impact Score in 2017.\n",
        "\n",
        "\n",
        "\n",
        "\n",
        "\n",
        "Using these different layers, you can see how the Social Impact of the best and worst Social Impact Investors has changed, or not changed between 2013 and 2017. \n"
      ]
    },
    {
      "metadata": {
        "id": "qa5Y3MeASUO_",
        "colab_type": "code",
        "colab": {}
      },
      "cell_type": "code",
      "source": [
        "# Export top_2013_investors_in_2017_df as CSV file\n",
        "top_2013_investors_in_2017_df.to_csv(data_folder + 'top_2013_investors_in_2017.csv')\n",
        "\n",
        "# Export bottom_2013_investors_in_2017_df as CSV file\n",
        "bottom_2013_investors_in_2017_df.to_csv(data_folder + 'bottom_2013_investors_in_2017.csv')\n",
        "\n",
        "# Export bottom_2017_investors_in_2013_df as CSV file\n",
        "bottom_2017_investors_in_2013_df.to_csv(data_folder + 'bottom_2017_investors_in_2013.csv')\n",
        "\n",
        "# Export top_2017_investors_in_2013_df as CSV file\n",
        "top_2017_investors_in_2013_df.to_csv(data_folder + 'top_2017_investors_in_2013.csv')"
      ],
      "execution_count": 0,
      "outputs": []
    },
    {
      "metadata": {
        "id": "JgKpgDC90ro_",
        "colab_type": "code",
        "colab": {}
      },
      "cell_type": "code",
      "source": [
        ""
      ],
      "execution_count": 0,
      "outputs": []
    }
  ]
}