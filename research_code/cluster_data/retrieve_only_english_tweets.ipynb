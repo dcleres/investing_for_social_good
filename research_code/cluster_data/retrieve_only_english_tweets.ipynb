{
 "cells": [
  {
   "cell_type": "code",
   "execution_count": 9,
   "metadata": {},
   "outputs": [],
   "source": [
    "import pandas as pd\n",
    "\n",
    "day = '01'\n",
    "hour = '01'"
   ]
  },
  {
   "cell_type": "code",
   "execution_count": 12,
   "metadata": {},
   "outputs": [
    {
     "name": "stdout",
     "output_type": "stream",
     "text": [
      "READING ./01/01/23.json.bz2\n",
      "READING ./01/01/22.json.bz2\n",
      "READING ./01/01/54.json.bz2\n",
      "READING ./01/01/55.json.bz2\n",
      "READING ./01/01/29.json.bz2\n",
      "READING ./01/01/28.json.bz2\n",
      "READING ./01/01/17.json.bz2\n",
      "READING ./01/01/16.json.bz2\n",
      "READING ./01/01/34.json.bz2\n",
      "READING ./01/01/35.json.bz2\n",
      "READING ./01/01/43.json.bz2\n",
      "READING ./01/01/42.json.bz2\n",
      "READING ./01/01/49.json.bz2\n",
      "READING ./01/01/48.json.bz2\n",
      "READING ./01/01/00.json.bz2\n",
      "READING ./01/01/01.json.bz2\n",
      "READING ./01/01/33.json.bz2\n",
      "READING ./01/01/32.json.bz2\n",
      "READING ./01/01/44.json.bz2\n",
      "READING ./01/01/45.json.bz2\n",
      "READING ./01/01/39.json.bz2\n",
      "READING ./01/01/38.json.bz2\n",
      "READING ./01/01/07.json.bz2\n",
      "READING ./01/01/06.json.bz2\n",
      "READING ./01/01/24.json.bz2\n",
      "READING ./01/01/25.json.bz2\n",
      "READING ./01/01/53.json.bz2\n",
      "READING ./01/01/52.json.bz2\n",
      "READING ./01/01/10.json.bz2\n",
      "READING ./01/01/11.json.bz2\n",
      "READING ./01/01/59.json.bz2\n",
      "READING ./01/01/58.json.bz2\n",
      "READING ./01/01/03.json.bz2\n",
      "READING ./01/01/02.json.bz2\n",
      "READING ./01/01/37.json.bz2\n",
      "READING ./01/01/36.json.bz2\n",
      "READING ./01/01/09.json.bz2\n",
      "READING ./01/01/08.json.bz2\n",
      "READING ./01/01/40.json.bz2\n",
      "READING ./01/01/41.json.bz2\n",
      "READING ./01/01/14.json.bz2\n",
      "READING ./01/01/15.json.bz2\n",
      "READING ./01/01/20.json.bz2\n",
      "READING ./01/01/21.json.bz2\n",
      "READING ./01/01/57.json.bz2\n",
      "READING ./01/01/56.json.bz2\n",
      "READING ./01/01/13.json.bz2\n",
      "READING ./01/01/12.json.bz2\n",
      "READING ./01/01/27.json.bz2\n",
      "READING ./01/01/26.json.bz2\n",
      "READING ./01/01/50.json.bz2\n",
      "READING ./01/01/51.json.bz2\n",
      "READING ./01/01/19.json.bz2\n",
      "READING ./01/01/18.json.bz2\n",
      "READING ./01/01/04.json.bz2\n",
      "READING ./01/01/05.json.bz2\n",
      "READING ./01/01/30.json.bz2\n",
      "READING ./01/01/31.json.bz2\n",
      "READING ./01/01/47.json.bz2\n",
      "READING ./01/01/46.json.bz2\n"
     ]
    }
   ],
   "source": [
    "from os import listdir\n",
    "from os.path import isfile, join\n",
    "\n",
    "mypath = './' + day + '/' + hour + '/' \n",
    "\n",
    "for f in listdir(mypath):\n",
    "\n",
    "    print('READING' , mypath + f)\n",
    "    df = pd.read_json(mypath + f, lines=True)\n",
    "    df = df[df.lang=='en']\n",
    "    df = df.reset_index()\n",
    "    \n",
    "    df.to_json(mypath + f, compression='bz2') "
   ]
  },
  {
   "cell_type": "code",
   "execution_count": null,
   "metadata": {},
   "outputs": [],
   "source": []
  }
 ],
 "metadata": {
  "kernelspec": {
   "display_name": "Python [conda env:ada]",
   "language": "python",
   "name": "conda-env-ada-py"
  },
  "language_info": {
   "codemirror_mode": {
    "name": "ipython",
    "version": 3
   },
   "file_extension": ".py",
   "mimetype": "text/x-python",
   "name": "python",
   "nbconvert_exporter": "python",
   "pygments_lexer": "ipython3",
   "version": "3.6.6"
  }
 },
 "nbformat": 4,
 "nbformat_minor": 2
}
